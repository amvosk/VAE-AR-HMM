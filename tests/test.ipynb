{
 "cells": [
  {
   "cell_type": "code",
   "execution_count": 466,
   "id": "07e0c9d9-81d0-4f36-b216-975934b8c680",
   "metadata": {},
   "outputs": [],
   "source": [
    "import os, psutil\n",
    "import importlib\n",
    "\n",
    "import einops\n",
    "import numpy as np\n",
    "import ssm\n",
    "import matplotlib.pyplot as plt\n",
    "from tqdm import tqdm"
   ]
  },
  {
   "cell_type": "code",
   "execution_count": 467,
   "id": "c6b8aac7-5234-4337-a178-7c94339cf3da",
   "metadata": {},
   "outputs": [],
   "source": [
    "np.set_printoptions(precision=3)\n",
    "os.environ['CUDA_VISIBLE_DEVICES'] = '2'"
   ]
  },
  {
   "cell_type": "code",
   "execution_count": 468,
   "id": "b94b2ce0-826f-4146-a28c-d59caa96dcaa",
   "metadata": {},
   "outputs": [
    {
     "name": "stdout",
     "output_type": "stream",
     "text": [
      "The available RAM memory is 59.98 GB out of 125.68 GB\n"
     ]
    }
   ],
   "source": [
    "total_memory = psutil.virtual_memory().total\n",
    "available_memory = psutil.virtual_memory().available\n",
    "print(f\"The available RAM memory is {available_memory / (1024**3):.2f} GB out of {total_memory / (1024**3):.2f} GB\")"
   ]
  },
  {
   "cell_type": "code",
   "execution_count": 469,
   "id": "998c761c-2d74-4201-9bdd-3a40e63999c3",
   "metadata": {},
   "outputs": [],
   "source": [
    "import os, psutil, sys\n",
    "import importlib\n",
    "\n",
    "import einops\n",
    "import numpy as np\n",
    "import ssm\n",
    "import matplotlib.pyplot as plt\n",
    "from tqdm import tqdm\n",
    "\n",
    "import torch\n",
    "import torch.nn as nn\n",
    "\n",
    "from pathlib import Path\n",
    "# parent_directory = Path(__file__).resolve().parent\n",
    "parent_directory = Path(os.getcwd()).resolve().parent\n",
    "sys.path.append(str(parent_directory))\n",
    "sys.path.append(str(parent_directory) + '/models/')"
   ]
  },
  {
   "cell_type": "code",
   "execution_count": null,
   "id": "2a23062a-fcb1-4ded-92f1-b83ac871fa20",
   "metadata": {},
   "outputs": [],
   "source": []
  },
  {
   "cell_type": "markdown",
   "id": "30f97ea6-84f9-4e23-833c-d07043f22a95",
   "metadata": {},
   "source": [
    "# Generate data"
   ]
  },
  {
   "cell_type": "code",
   "execution_count": 1144,
   "id": "34f0a374-97d8-4e57-a2e2-f6bbc0f16194",
   "metadata": {},
   "outputs": [],
   "source": [
    "import ssm\n",
    "\n",
    "num_states = 1\n",
    "obs_dim = 2\n",
    "time_bins = 10000\n",
    "\n",
    "true_hmm = ssm.HMM(\n",
    "    num_states, obs_dim, \n",
    "    observations=\"autoregressive\",\n",
    "    # observations=\"gaussian\",\n",
    "    transitions=\"inputdriven\"\n",
    ")\n",
    "\n",
    "true_states, obs = true_hmm.sample(time_bins)\n",
    "true_ll = true_hmm.log_probability(obs)"
   ]
  },
  {
   "cell_type": "code",
   "execution_count": 1145,
   "id": "3839a933-4f80-4994-ad36-fdaf1af1c6f5",
   "metadata": {},
   "outputs": [],
   "source": [
    "# true_hmm.observations._As, true_hmm.observations.bs"
   ]
  },
  {
   "cell_type": "code",
   "execution_count": 1146,
   "id": "75a307f2-3475-4c44-b18e-b3423dc24549",
   "metadata": {},
   "outputs": [],
   "source": [
    "# vars(true_hmm.observations)"
   ]
  },
  {
   "cell_type": "code",
   "execution_count": 1147,
   "id": "fc555db0-d058-4496-a21c-1fe42beeeeb7",
   "metadata": {},
   "outputs": [],
   "source": [
    "def convert_observations(obs, device, seed=0, cov_zero=True):\n",
    "    torch.manual_seed(seed)\n",
    "    x = torch.tensor(obs, dtype=torch.float32).to(device)\n",
    "    # x_mean = einops.rearrange(x, 't f -> 1 f t')\n",
    "    x_mean = einops.repeat(x, 't f -> 1 f t')\n",
    "    x_cov = torch.randn((1, x_mean.shape[-2], x_mean.shape[-2], x_mean.shape[-1]), dtype=torch.float32).to(device)\n",
    "    x_cov = torch.einsum('bcCt, bsCt -> bcst', x_cov, x_cov)\n",
    "    if cov_zero:\n",
    "        x_cov[:] = 0\n",
    "    return x_mean, x_cov"
   ]
  },
  {
   "cell_type": "markdown",
   "id": "6b959a90-635e-4e63-a4ad-671c87e81962",
   "metadata": {},
   "source": [
    "# Whitening of the data"
   ]
  },
  {
   "cell_type": "code",
   "execution_count": 1148,
   "id": "b63071e3-8ae6-46b5-85ff-e6d73c98f5c1",
   "metadata": {},
   "outputs": [],
   "source": [
    "import ar\n",
    "importlib.reload(ar)\n",
    "\n",
    "config_ar = ar.ARConfig(\n",
    "    n_states=num_states,\n",
    "    n_features=obs_dim,\n",
    "    ar_order=1,\n",
    "    covariance_type='full',\n",
    ")\n",
    "device = 'cpu'"
   ]
  },
  {
   "cell_type": "code",
   "execution_count": 1149,
   "id": "9d4c2d5b-a9c9-4787-a312-66c2735ff201",
   "metadata": {},
   "outputs": [],
   "source": [
    "ar_model = ar.Autoregression(config_ar).to(device)"
   ]
  },
  {
   "cell_type": "markdown",
   "id": "a2a22efc-c354-4570-b9ab-cc90fc86de0e",
   "metadata": {},
   "source": [
    "### set whitening_filters to the AR and mu coefs"
   ]
  },
  {
   "cell_type": "code",
   "execution_count": 1150,
   "id": "f16351b6-0468-4baf-9531-1b5e1e533c48",
   "metadata": {},
   "outputs": [],
   "source": [
    "x_mean, x_cov = convert_observations(obs, device, seed=0)"
   ]
  },
  {
   "cell_type": "code",
   "execution_count": 1151,
   "id": "318a8a23-1a54-4203-b776-aec9658a9ce4",
   "metadata": {},
   "outputs": [],
   "source": [
    "ar_model.An[:,1] = torch.tensor(true_hmm.observations._As[0], dtype=torch.float32, device=device)\n",
    "ar_model.An[:,-1] = torch.diag(torch.tensor(true_hmm.observations.bs[0], dtype=torch.float32, device=device))\n",
    "ar_model._update_filters()"
   ]
  },
  {
   "cell_type": "code",
   "execution_count": 1152,
   "id": "ab07cb7e-a489-4630-9cef-94cc25314c9f",
   "metadata": {},
   "outputs": [
    {
     "name": "stdout",
     "output_type": "stream",
     "text": [
      "CPU times: user 1.57 ms, sys: 0 ns, total: 1.57 ms\n",
      "Wall time: 964 µs\n"
     ]
    }
   ],
   "source": [
    "%%time\n",
    "y = ar_model.whitening_filters[0](ar_model.pad(x_mean)).detach().cpu().numpy()"
   ]
  },
  {
   "cell_type": "code",
   "execution_count": 1153,
   "id": "9c6a1328-b715-4d21-861a-a327e465a8a8",
   "metadata": {},
   "outputs": [
    {
     "name": "stdout",
     "output_type": "stream",
     "text": [
      "[[ 0.001 -0.009]]\n"
     ]
    }
   ],
   "source": [
    "\n",
    "print(np.mean(y, axis=-1))"
   ]
  },
  {
   "cell_type": "code",
   "execution_count": 1154,
   "id": "7ef147dc-43af-436b-8628-41c512885734",
   "metadata": {},
   "outputs": [],
   "source": [
    "\n",
    "gamma = torch.ones((config_ar.n_features, time_bins), device=x_mean.device) / config_ar.n_states"
   ]
  },
  {
   "cell_type": "code",
   "execution_count": 1155,
   "id": "0c8226ae-51bd-498f-88df-afbdf44d75e9",
   "metadata": {},
   "outputs": [
    {
     "data": {
      "text/plain": [
       "torch.Size([2, 10000])"
      ]
     },
     "execution_count": 1155,
     "metadata": {},
     "output_type": "execute_result"
    }
   ],
   "source": [
    "gamma.shape"
   ]
  },
  {
   "cell_type": "code",
   "execution_count": 1156,
   "id": "4a3576c4-353f-4e32-afdf-e8e58b3deb69",
   "metadata": {},
   "outputs": [
    {
     "data": {
      "text/plain": [
       "(torch.Size([1, 2, 10000]), torch.Size([1, 2, 2, 10000]))"
      ]
     },
     "execution_count": 1156,
     "metadata": {},
     "output_type": "execute_result"
    }
   ],
   "source": [
    "x_mean.shape, x_cov.shape "
   ]
  },
  {
   "cell_type": "code",
   "execution_count": 1157,
   "id": "9b4025d3-c001-462a-9f0c-b14ea8bbaab3",
   "metadata": {},
   "outputs": [
    {
     "data": {
      "text/plain": [
       "tensor([[[[0., 0., 0.,  ..., 0., 0., 0.],\n",
       "          [0., 0., 0.,  ..., 0., 0., 0.]],\n",
       "\n",
       "         [[0., 0., 0.,  ..., 0., 0., 0.],\n",
       "          [0., 0., 0.,  ..., 0., 0., 0.]]]])"
      ]
     },
     "execution_count": 1157,
     "metadata": {},
     "output_type": "execute_result"
    }
   ],
   "source": [
    "x_cov"
   ]
  },
  {
   "cell_type": "code",
   "execution_count": 1159,
   "id": "f1c2c2a0-022b-4c6e-ba5d-cc31d46d8cda",
   "metadata": {},
   "outputs": [],
   "source": [
    "# %%time\n",
    "# ar_model._estimate_autoregression(x_mean, x_cov, gamma)"
   ]
  },
  {
   "cell_type": "code",
   "execution_count": 1160,
   "id": "95cede67-0f2a-4302-ba43-45338ab09d56",
   "metadata": {},
   "outputs": [],
   "source": [
    "# %%time\n",
    "# ar_model._estimate_covariance(x_mean, x_cov, gamma)"
   ]
  },
  {
   "cell_type": "code",
   "execution_count": 1161,
   "id": "fa2debf0-feec-43b3-8987-f8004091605d",
   "metadata": {},
   "outputs": [],
   "source": [
    "# %%time\n",
    "# ar._estimate_covariance_slow(x_mean, x_cov, gamma)"
   ]
  },
  {
   "cell_type": "code",
   "execution_count": 1164,
   "id": "673c8f3e-2905-42bd-bc54-6bb2e79f5991",
   "metadata": {},
   "outputs": [],
   "source": [
    "ar_model.fit(x_mean, x_cov)"
   ]
  },
  {
   "cell_type": "code",
   "execution_count": 1165,
   "id": "eb4bdadb-10d1-487e-93b3-0e34de423e06",
   "metadata": {},
   "outputs": [],
   "source": [
    "ar_model.reset()"
   ]
  },
  {
   "cell_type": "code",
   "execution_count": 1166,
   "id": "e3dcb0f4-464d-4384-9698-b904c4582746",
   "metadata": {},
   "outputs": [],
   "source": [
    "ar_model.fit(x_mean, x_cov)"
   ]
  },
  {
   "cell_type": "code",
   "execution_count": 1167,
   "id": "81e27cc8-4e36-42d1-90b5-a242f00f953b",
   "metadata": {},
   "outputs": [
    {
     "data": {
      "text/plain": [
       "tensor([[[4.8922, 2.7979],\n",
       "         [2.7979, 2.2025]]])"
      ]
     },
     "execution_count": 1167,
     "metadata": {},
     "output_type": "execute_result"
    }
   ],
   "source": [
    "ar_model.Sigma"
   ]
  },
  {
   "cell_type": "code",
   "execution_count": 1168,
   "id": "c55847ce-980e-4829-871a-98b893dd8f6c",
   "metadata": {},
   "outputs": [
    {
     "name": "stdout",
     "output_type": "stream",
     "text": [
      "CPU times: user 2.37 ms, sys: 0 ns, total: 2.37 ms\n",
      "Wall time: 1.43 ms\n"
     ]
    }
   ],
   "source": [
    "%%time\n",
    "log_prob_ar = ar_model.emission_log_prob(x_mean)"
   ]
  },
  {
   "cell_type": "code",
   "execution_count": 1175,
   "id": "b8f5ebe6-d05b-45d0-930c-5c8a1b5a625e",
   "metadata": {},
   "outputs": [
    {
     "ename": "EinopsError",
     "evalue": " Error while processing rearrange-reduction pattern \"k c t -> k t c\".\n Input tensor shape: torch.Size([1, 1, 2, 10000]). Additional info: {}.\n Expected 3 dimensions, got 4",
     "output_type": "error",
     "traceback": [
      "\u001b[0;31m---------------------------------------------------------------------------\u001b[0m",
      "\u001b[0;31mEinopsError\u001b[0m                               Traceback (most recent call last)",
      "File \u001b[0;32m/opt/conda/envs/slds/lib/python3.10/site-packages/einops/einops.py:412\u001b[0m, in \u001b[0;36mreduce\u001b[0;34m(tensor, pattern, reduction, **axes_lengths)\u001b[0m\n\u001b[1;32m    411\u001b[0m     recipe \u001b[38;5;241m=\u001b[39m _prepare_transformation_recipe(pattern, reduction, axes_lengths\u001b[38;5;241m=\u001b[39mhashable_axes_lengths)\n\u001b[0;32m--> 412\u001b[0m     \u001b[38;5;28;01mreturn\u001b[39;00m \u001b[43m_apply_recipe\u001b[49m\u001b[43m(\u001b[49m\u001b[43mrecipe\u001b[49m\u001b[43m,\u001b[49m\u001b[43m \u001b[49m\u001b[43mtensor\u001b[49m\u001b[43m,\u001b[49m\u001b[43m \u001b[49m\u001b[43mreduction_type\u001b[49m\u001b[38;5;241;43m=\u001b[39;49m\u001b[43mreduction\u001b[49m\u001b[43m)\u001b[49m\n\u001b[1;32m    413\u001b[0m \u001b[38;5;28;01mexcept\u001b[39;00m EinopsError \u001b[38;5;28;01mas\u001b[39;00m e:\n",
      "File \u001b[0;32m/opt/conda/envs/slds/lib/python3.10/site-packages/einops/einops.py:235\u001b[0m, in \u001b[0;36m_apply_recipe\u001b[0;34m(recipe, tensor, reduction_type)\u001b[0m\n\u001b[1;32m    233\u001b[0m backend \u001b[38;5;241m=\u001b[39m get_backend(tensor)\n\u001b[1;32m    234\u001b[0m init_shapes, reduced_axes, axes_reordering, added_axes, final_shapes \u001b[38;5;241m=\u001b[39m \\\n\u001b[0;32m--> 235\u001b[0m     \u001b[43m_reconstruct_from_shape\u001b[49m\u001b[43m(\u001b[49m\u001b[43mrecipe\u001b[49m\u001b[43m,\u001b[49m\u001b[43m \u001b[49m\u001b[43mbackend\u001b[49m\u001b[38;5;241;43m.\u001b[39;49m\u001b[43mshape\u001b[49m\u001b[43m(\u001b[49m\u001b[43mtensor\u001b[49m\u001b[43m)\u001b[49m\u001b[43m)\u001b[49m\n\u001b[1;32m    236\u001b[0m tensor \u001b[38;5;241m=\u001b[39m backend\u001b[38;5;241m.\u001b[39mreshape(tensor, init_shapes)\n",
      "File \u001b[0;32m/opt/conda/envs/slds/lib/python3.10/site-packages/einops/einops.py:165\u001b[0m, in \u001b[0;36m_reconstruct_from_shape_uncached\u001b[0;34m(self, shape)\u001b[0m\n\u001b[1;32m    164\u001b[0m     \u001b[38;5;28;01mif\u001b[39;00m \u001b[38;5;28mlen\u001b[39m(shape) \u001b[38;5;241m!=\u001b[39m \u001b[38;5;28mlen\u001b[39m(\u001b[38;5;28mself\u001b[39m\u001b[38;5;241m.\u001b[39minput_composite_axes):\n\u001b[0;32m--> 165\u001b[0m         \u001b[38;5;28;01mraise\u001b[39;00m EinopsError(\u001b[38;5;124m'\u001b[39m\u001b[38;5;124mExpected \u001b[39m\u001b[38;5;132;01m{}\u001b[39;00m\u001b[38;5;124m dimensions, got \u001b[39m\u001b[38;5;132;01m{}\u001b[39;00m\u001b[38;5;124m'\u001b[39m\u001b[38;5;241m.\u001b[39mformat(\u001b[38;5;28mlen\u001b[39m(\u001b[38;5;28mself\u001b[39m\u001b[38;5;241m.\u001b[39minput_composite_axes), \u001b[38;5;28mlen\u001b[39m(shape)))\n\u001b[1;32m    167\u001b[0m ellipsis_shape: List[\u001b[38;5;28mint\u001b[39m] \u001b[38;5;241m=\u001b[39m []\n",
      "\u001b[0;31mEinopsError\u001b[0m: Expected 3 dimensions, got 4",
      "\nDuring handling of the above exception, another exception occurred:\n",
      "\u001b[0;31mEinopsError\u001b[0m                               Traceback (most recent call last)",
      "File \u001b[0;32m<timed exec>:1\u001b[0m\n",
      "File \u001b[0;32m~/common/amvosk/Projects/Speech Mapping Advanced/VAE-AR-HMM/models/ar.py:124\u001b[0m, in \u001b[0;36mAutoregression.emission_log_prob_pytorch\u001b[0;34m(self, x_mean)\u001b[0m\n\u001b[1;32m    122\u001b[0m log_prob \u001b[38;5;241m=\u001b[39m torch\u001b[38;5;241m.\u001b[39mzeros(\u001b[38;5;28mself\u001b[39m\u001b[38;5;241m.\u001b[39mconfig\u001b[38;5;241m.\u001b[39mn_states, x_mean\u001b[38;5;241m.\u001b[39mshape[\u001b[38;5;241m-\u001b[39m\u001b[38;5;241m1\u001b[39m], device\u001b[38;5;241m=\u001b[39mx_mean\u001b[38;5;241m.\u001b[39mdevice)\n\u001b[1;32m    123\u001b[0m es \u001b[38;5;241m=\u001b[39m \u001b[38;5;28mself\u001b[39m\u001b[38;5;241m.\u001b[39m_signal_whitening(x_mean)\n\u001b[0;32m--> 124\u001b[0m es \u001b[38;5;241m=\u001b[39m \u001b[43meinops\u001b[49m\u001b[38;5;241;43m.\u001b[39;49m\u001b[43mrearrange\u001b[49m\u001b[43m(\u001b[49m\u001b[43mes\u001b[49m\u001b[43m,\u001b[49m\u001b[43m \u001b[49m\u001b[38;5;124;43m'\u001b[39;49m\u001b[38;5;124;43mk c t -> k t c\u001b[39;49m\u001b[38;5;124;43m'\u001b[39;49m\u001b[43m)\u001b[49m\n\u001b[1;32m    126\u001b[0m \u001b[38;5;28;01mfor\u001b[39;00m k \u001b[38;5;129;01min\u001b[39;00m \u001b[38;5;28mrange\u001b[39m(\u001b[38;5;28mself\u001b[39m\u001b[38;5;241m.\u001b[39mconfig\u001b[38;5;241m.\u001b[39mn_states):\n\u001b[1;32m    127\u001b[0m     covariance_matrix_k \u001b[38;5;241m=\u001b[39m \u001b[38;5;28mself\u001b[39m\u001b[38;5;241m.\u001b[39mSigma[k]\n",
      "File \u001b[0;32m/opt/conda/envs/slds/lib/python3.10/site-packages/einops/einops.py:483\u001b[0m, in \u001b[0;36mrearrange\u001b[0;34m(tensor, pattern, **axes_lengths)\u001b[0m\n\u001b[1;32m    481\u001b[0m         \u001b[38;5;28;01mraise\u001b[39;00m \u001b[38;5;167;01mTypeError\u001b[39;00m(\u001b[38;5;124m\"\u001b[39m\u001b[38;5;124mRearrange can\u001b[39m\u001b[38;5;124m'\u001b[39m\u001b[38;5;124mt be applied to an empty list\u001b[39m\u001b[38;5;124m\"\u001b[39m)\n\u001b[1;32m    482\u001b[0m     tensor \u001b[38;5;241m=\u001b[39m get_backend(tensor[\u001b[38;5;241m0\u001b[39m])\u001b[38;5;241m.\u001b[39mstack_on_zeroth_dimension(tensor)\n\u001b[0;32m--> 483\u001b[0m \u001b[38;5;28;01mreturn\u001b[39;00m \u001b[43mreduce\u001b[49m\u001b[43m(\u001b[49m\u001b[43mcast\u001b[49m\u001b[43m(\u001b[49m\u001b[43mTensor\u001b[49m\u001b[43m,\u001b[49m\u001b[43m \u001b[49m\u001b[43mtensor\u001b[49m\u001b[43m)\u001b[49m\u001b[43m,\u001b[49m\u001b[43m \u001b[49m\u001b[43mpattern\u001b[49m\u001b[43m,\u001b[49m\u001b[43m \u001b[49m\u001b[43mreduction\u001b[49m\u001b[38;5;241;43m=\u001b[39;49m\u001b[38;5;124;43m'\u001b[39;49m\u001b[38;5;124;43mrearrange\u001b[39;49m\u001b[38;5;124;43m'\u001b[39;49m\u001b[43m,\u001b[49m\u001b[43m \u001b[49m\u001b[38;5;241;43m*\u001b[39;49m\u001b[38;5;241;43m*\u001b[39;49m\u001b[43maxes_lengths\u001b[49m\u001b[43m)\u001b[49m\n",
      "File \u001b[0;32m/opt/conda/envs/slds/lib/python3.10/site-packages/einops/einops.py:420\u001b[0m, in \u001b[0;36mreduce\u001b[0;34m(tensor, pattern, reduction, **axes_lengths)\u001b[0m\n\u001b[1;32m    418\u001b[0m     message \u001b[38;5;241m+\u001b[39m\u001b[38;5;241m=\u001b[39m \u001b[38;5;124m'\u001b[39m\u001b[38;5;130;01m\\n\u001b[39;00m\u001b[38;5;124m Input is list. \u001b[39m\u001b[38;5;124m'\u001b[39m\n\u001b[1;32m    419\u001b[0m message \u001b[38;5;241m+\u001b[39m\u001b[38;5;241m=\u001b[39m \u001b[38;5;124m'\u001b[39m\u001b[38;5;124mAdditional info: \u001b[39m\u001b[38;5;132;01m{}\u001b[39;00m\u001b[38;5;124m.\u001b[39m\u001b[38;5;124m'\u001b[39m\u001b[38;5;241m.\u001b[39mformat(axes_lengths)\n\u001b[0;32m--> 420\u001b[0m \u001b[38;5;28;01mraise\u001b[39;00m EinopsError(message \u001b[38;5;241m+\u001b[39m \u001b[38;5;124m'\u001b[39m\u001b[38;5;130;01m\\n\u001b[39;00m\u001b[38;5;124m \u001b[39m\u001b[38;5;132;01m{}\u001b[39;00m\u001b[38;5;124m'\u001b[39m\u001b[38;5;241m.\u001b[39mformat(e))\n",
      "\u001b[0;31mEinopsError\u001b[0m:  Error while processing rearrange-reduction pattern \"k c t -> k t c\".\n Input tensor shape: torch.Size([1, 1, 2, 10000]). Additional info: {}.\n Expected 3 dimensions, got 4"
     ]
    }
   ],
   "source": [
    "%%time\n",
    "log_prob_ar = ar_model.emission_log_prob_pytorch(x_mean)"
   ]
  },
  {
   "cell_type": "code",
   "execution_count": 1173,
   "id": "e0c4b644-3424-4166-8eb6-206d2b49a619",
   "metadata": {},
   "outputs": [
    {
     "data": {
      "text/plain": [
       "torch.Size([1, 1, 10000])"
      ]
     },
     "execution_count": 1173,
     "metadata": {},
     "output_type": "execute_result"
    }
   ],
   "source": [
    "log_prob_ar.shape"
   ]
  },
  {
   "cell_type": "code",
   "execution_count": 1174,
   "id": "2eec1875-2411-4a95-bed2-757e2bc17f1d",
   "metadata": {},
   "outputs": [
    {
     "data": {
      "text/plain": [
       "torch.Size([1, 1, 10000])"
      ]
     },
     "execution_count": 1174,
     "metadata": {},
     "output_type": "execute_result"
    }
   ],
   "source": [
    "log_prob_ar.shape"
   ]
  },
  {
   "cell_type": "markdown",
   "id": "065d1cf0-02d7-4b47-b940-28b7f1b7f092",
   "metadata": {},
   "source": [
    "# HMM"
   ]
  },
  {
   "cell_type": "code",
   "execution_count": 1133,
   "id": "8739e31a-fbfa-4f45-88ad-2859747bf69f",
   "metadata": {},
   "outputs": [
    {
     "data": {
      "text/plain": [
       "<module 'hmm' from '/home/user/common/amvosk/Projects/Speech Mapping Advanced/VAE-AR-HMM/models/hmm.py'>"
      ]
     },
     "execution_count": 1133,
     "metadata": {},
     "output_type": "execute_result"
    }
   ],
   "source": [
    "import ar\n",
    "importlib.reload(ar)\n",
    "\n",
    "import hmm\n",
    "importlib.reload(hmm)"
   ]
  },
  {
   "cell_type": "code",
   "execution_count": 1134,
   "id": "ab829a62-d3df-49bd-8963-4dd339769963",
   "metadata": {},
   "outputs": [],
   "source": [
    "class ARHMM(nn.Module):\n",
    "    def __init__(\n",
    "        self,\n",
    "        config_ar,\n",
    "        config_hmm,\n",
    "        random_seed,\n",
    "    ):\n",
    "        super(self.__class__,self).__init__()\n",
    "        self.config_hmm = config_hmm\n",
    "        self.config_ar = config_ar\n",
    "\n",
    "        self.hmm = hmm.HMM(self.config_hmm, random_seed)\n",
    "        self.ar = ar.Autoregression(self.config_ar)\n",
    "        \n",
    "    def forward(self, x):\n",
    "        return None\n",
    "        \n",
    "    def fit(self, x_mean, x_cov, n_iterations=50, mask=None):\n",
    "        log_probs = []\n",
    "        for iteration in tqdm(range(n_iterations)):\n",
    "            # print(x_mean.shape, x_cov.shape)\n",
    "            emissions = self.ar.emission_log_prob(x_mean)\n",
    "            # emissions = einops.rearrange(emissions, 'f t -> 1 f t')\n",
    "            # print(emissions.shape)\n",
    "            log_prob, gamma = self.hmm.fit(emissions)\n",
    "            # print(x_mean.shape, x_cov.shape)\n",
    "            \n",
    "            # x_mean = einops.rearrange(x_mean, '1 f t -> f t')\n",
    "            # x_cov = einops.rearrange(x_cov, '1 f F t -> f F t')\n",
    "            self.ar.fit(x_mean, x_cov, gamma)\n",
    "            # x_mean = einops.rearrange(x_mean, 'f t -> 1 f t')\n",
    "            # x_cov = einops.rearrange(x_cov, 'f F t -> 1 f F t')\n",
    "            \n",
    "            log_probs.append(log_prob.detach().cpu().numpy().item())\n",
    "        return log_probs\n",
    "            \n",
    "    def predict(self, x_mean):\n",
    "        emissions = self.ar.emission_log_prob(x_mean)\n",
    "        path = self.hmm.predict(emissions)\n",
    "        return path"
   ]
  },
  {
   "cell_type": "markdown",
   "id": "c5abbccb-9901-4e9f-9403-67656266df5a",
   "metadata": {},
   "source": [
    "# Generate some GaussHMM data"
   ]
  },
  {
   "cell_type": "code",
   "execution_count": 1135,
   "id": "d0db9602-8665-4e76-89de-13554649acfa",
   "metadata": {},
   "outputs": [],
   "source": [
    "import ssm\n",
    "\n",
    "num_states = 3\n",
    "obs_dim = 2\n",
    "time_bins = 1000\n",
    "observations = \"gaussian\"\n",
    "# observations = \"autoregressive\"\n",
    "\n",
    "true_hmm = ssm.HMM(\n",
    "    num_states, obs_dim, \n",
    "    observations=observations,\n",
    "    transitions=\"inputdriven\"\n",
    ")\n",
    "\n",
    "true_states, obs = true_hmm.sample(time_bins)\n",
    "true_ll = true_hmm.log_probability(obs)"
   ]
  },
  {
   "cell_type": "code",
   "execution_count": 1136,
   "id": "0888986b-cc8f-4601-9e9c-3c82ae97cdaf",
   "metadata": {},
   "outputs": [],
   "source": [
    "config_ar = ar.ARConfig(\n",
    "    n_states=num_states,\n",
    "    n_features=obs_dim,\n",
    "    ar_order= 0 if observations == \"gaussian\" else 1,\n",
    "    covariance_type='full'\n",
    ")\n",
    "\n",
    "# device = 'cuda'\n",
    "device = 'cpu'\n",
    "\n",
    "config_hmm = hmm.HMMConfig(\n",
    "    n_states=num_states,\n",
    "    init_state_type='uniform',\n",
    "    transition_matrix_type='random',\n",
    "    transition_type='full',\n",
    "    diagonal_coef=0,\n",
    "    first_coef=0,\n",
    "    ergodicity_coef=0,\n",
    "    temperature=1,\n",
    ")\n",
    "\n",
    "random_seed = 42"
   ]
  },
  {
   "cell_type": "markdown",
   "id": "8b2d6e1d-a173-4103-8f57-74ebf6a37889",
   "metadata": {},
   "source": [
    "## From library"
   ]
  },
  {
   "cell_type": "code",
   "execution_count": 1137,
   "id": "59aa84ed-96d3-4ab5-8a81-f77848599590",
   "metadata": {},
   "outputs": [
    {
     "name": "stderr",
     "output_type": "stream",
     "text": [
      "LP: -2465.4: 100%|██████████| 50/50 [00:00<00:00, 296.81it/s]\n"
     ]
    }
   ],
   "source": [
    "N_iters = 50\n",
    "\n",
    "## testing the constrained transitions class\n",
    "hmm_ssm = ssm.HMM(num_states, obs_dim, observations=observations)\n",
    "\n",
    "hmm_lls = hmm_ssm.fit(obs, method=\"em\", num_iters=N_iters)#, init_method=\"kmeans\")"
   ]
  },
  {
   "cell_type": "markdown",
   "id": "478aef22-bf43-46f4-8bcc-24c04959b0cc",
   "metadata": {},
   "source": [
    "## Mine"
   ]
  },
  {
   "cell_type": "code",
   "execution_count": 1138,
   "id": "cba5db83-a319-4f1d-98dd-5d62360a0815",
   "metadata": {},
   "outputs": [],
   "source": [
    "x_mean, x_cov = convert_observations(obs, device, seed=0, cov_zero=True)"
   ]
  },
  {
   "cell_type": "code",
   "execution_count": 1139,
   "id": "44046d48-207e-41a4-9821-bb2fb34697ce",
   "metadata": {},
   "outputs": [
    {
     "name": "stderr",
     "output_type": "stream",
     "text": [
      "100%|██████████| 50/50 [00:03<00:00, 13.37it/s]\n"
     ]
    },
    {
     "data": {
      "text/plain": [
       "-2465.457763671875"
      ]
     },
     "execution_count": 1139,
     "metadata": {},
     "output_type": "execute_result"
    }
   ],
   "source": [
    "arhmm = ARHMM(config_ar, config_hmm, random_seed).to(device)\n",
    "N_iters = 50\n",
    "\n",
    "log_prob = arhmm.fit(x_mean, x_cov, n_iterations=N_iters)\n",
    "log_prob[-1]"
   ]
  },
  {
   "cell_type": "code",
   "execution_count": null,
   "id": "fdfe3a52-6ac5-4ac1-b0f7-cff40cbd08b9",
   "metadata": {},
   "outputs": [],
   "source": []
  },
  {
   "cell_type": "code",
   "execution_count": null,
   "id": "dfb33261-392a-479d-b4a9-73017e7d0d36",
   "metadata": {},
   "outputs": [],
   "source": []
  },
  {
   "cell_type": "code",
   "execution_count": null,
   "id": "35149e83-7020-4184-9eca-6f7efa013a12",
   "metadata": {},
   "outputs": [],
   "source": []
  },
  {
   "cell_type": "code",
   "execution_count": 964,
   "id": "c0a16736-3723-49e1-8aca-bdbab4646060",
   "metadata": {},
   "outputs": [],
   "source": [
    "# plt.plot(log_prob)"
   ]
  },
  {
   "cell_type": "code",
   "execution_count": 965,
   "id": "c7d72b62-8bd7-4532-b187-e9c66f88ad9c",
   "metadata": {},
   "outputs": [],
   "source": [
    "mu, sigma = arhmm.ar._get_mean().cpu().numpy(), arhmm.ar._get_cov().cpu().numpy()"
   ]
  },
  {
   "cell_type": "code",
   "execution_count": 966,
   "id": "b512dc7f-f926-4463-a482-a7f6c243cd45",
   "metadata": {},
   "outputs": [],
   "source": [
    "mu_true = true_hmm.observations.mus\n",
    "mu_learned = hmm_ssm.observations.mus\n",
    "mu_mine = arhmm.ar._get_mean().cpu().numpy()"
   ]
  },
  {
   "cell_type": "code",
   "execution_count": 967,
   "id": "e1cbf8c6-e081-4dc3-9316-cd25979c947d",
   "metadata": {},
   "outputs": [],
   "source": [
    "sigma_true = np.einsum('kcC, ksC -> kcs', true_hmm.observations._sqrt_Sigmas, true_hmm.observations._sqrt_Sigmas)\n",
    "sigma_learned = np.einsum('kcC, ksC -> kcs', hmm_ssm.observations._sqrt_Sigmas, hmm_ssm.observations._sqrt_Sigmas)\n",
    "sigma_mine = arhmm.ar._get_cov().cpu().numpy()"
   ]
  },
  {
   "cell_type": "code",
   "execution_count": 968,
   "id": "d07b489e-c963-4a46-9f1a-40848632cb05",
   "metadata": {},
   "outputs": [],
   "source": [
    "def plot_ar_matrix(matrices):\n",
    "    n_matrices = matrices.shape[0]\n",
    "    fig, ax = plt.subplots(1, n_matrices, figsize=(15, 3))\n",
    "\n",
    "    for i in range(n_matrices):\n",
    "        matrix = matrices[i]\n",
    "        vmax = np.max(np.abs(matrix))\n",
    "        vmin = -vmax\n",
    "        cmap = plt.get_cmap(\"coolwarm\")\n",
    "        # Plot the covariance matrix using imshow\n",
    "        im = ax[i].imshow(matrix, cmap=cmap, vmin=vmin, vmax=vmax)\n",
    "\n",
    "        cax = fig.add_axes([ax[i].get_position().x1 + 0.01, ax[i].get_position().y0, 0.02, ax[i].get_position().height])\n",
    "        cbar = fig.colorbar(im, cax=cax)\n",
    "        \n",
    "        \n",
    "        num_variables = matrix.shape[0]\n",
    "        tick_positions = np.arange(num_variables)\n",
    "        ax[i].set_xticks(tick_positions)\n",
    "        ax[i].set_yticks(tick_positions)\n",
    "        ax[i].set_xticklabels(tick_positions)\n",
    "        ax[i].set_yticklabels(tick_positions)\n",
    "\n",
    "        ax[i].set_title(f'ar state {i}')\n",
    "    plt.show()"
   ]
  },
  {
   "cell_type": "code",
   "execution_count": 969,
   "id": "7d68ef5d-21c5-41c3-b109-77197f2edd54",
   "metadata": {},
   "outputs": [
    {
     "data": {
      "image/png": "[encoded data removed]",
      "text/plain": [
       "<Figure size 1500x300 with 6 Axes>"
      ]
     },
     "metadata": {},
     "output_type": "display_data"
    }
   ],
   "source": [
    "plot_ar_matrix(sigma_true)"
   ]
  },
  {
   "cell_type": "code",
   "execution_count": 970,
   "id": "33bb9604-e581-4f54-80fc-587e320d7ab7",
   "metadata": {},
   "outputs": [
    {
     "data": {
      "image/png": "[encoded data removed]",
      "text/plain": [
       "<Figure size 1500x300 with 6 Axes>"
      ]
     },
     "metadata": {},
     "output_type": "display_data"
    }
   ],
   "source": [
    "plot_ar_matrix(sigma_learned)"
   ]
  },
  {
   "cell_type": "code",
   "execution_count": 971,
   "id": "26188ca6-f264-4771-927e-b07ae98361bf",
   "metadata": {},
   "outputs": [
    {
     "data": {
      "image/png": "[encoded data removed]",
      "text/plain": [
       "<Figure size 1500x300 with 6 Axes>"
      ]
     },
     "metadata": {},
     "output_type": "display_data"
    }
   ],
   "source": [
    "plot_ar_matrix(sigma_mine)"
   ]
  },
  {
   "cell_type": "code",
   "execution_count": null,
   "id": "ceaff166-608c-4412-bae9-06202bc4887c",
   "metadata": {},
   "outputs": [],
   "source": []
  },
  {
   "cell_type": "code",
   "execution_count": 979,
   "id": "c3140815-236f-4f58-b8b5-53f24ae60c8a",
   "metadata": {},
   "outputs": [],
   "source": [
    "x_mean, x_cov = convert_observations(obs, device, seed=0, cov_zero=False)"
   ]
  },
  {
   "cell_type": "code",
   "execution_count": 980,
   "id": "c673fc78-f70a-4669-9408-9c8e41346f4f",
   "metadata": {},
   "outputs": [
    {
     "name": "stdout",
     "output_type": "stream",
     "text": [
      "CPU times: user 39.7 ms, sys: 0 ns, total: 39.7 ms\n",
      "Wall time: 9.63 ms\n"
     ]
    }
   ],
   "source": [
    "%%time\n",
    "x_samples = arhmm.ar.sample(x_mean, x_cov, n_samples=100, random_seed=0)"
   ]
  },
  {
   "cell_type": "code",
   "execution_count": 981,
   "id": "0f3ed982-3e22-4d7b-8ff1-e514c73fe54c",
   "metadata": {},
   "outputs": [
    {
     "data": {
      "text/plain": [
       "torch.Size([100, 2, 1000])"
      ]
     },
     "execution_count": 981,
     "metadata": {},
     "output_type": "execute_result"
    }
   ],
   "source": [
    "x_samples.shape"
   ]
  },
  {
   "cell_type": "code",
   "execution_count": 982,
   "id": "e5c795f6-8354-4238-8e89-94df1a24861f",
   "metadata": {},
   "outputs": [
    {
     "name": "stdout",
     "output_type": "stream",
     "text": [
      "CPU times: user 57.1 ms, sys: 0 ns, total: 57.1 ms\n",
      "Wall time: 9.83 ms\n"
     ]
    }
   ],
   "source": [
    "%%time\n",
    "prob = arhmm.ar.emission_log_prob(x_samples)"
   ]
  },
  {
   "cell_type": "code",
   "execution_count": null,
   "id": "8be87128-8ec4-4e2b-833e-c4ec2d465d40",
   "metadata": {},
   "outputs": [],
   "source": []
  },
  {
   "cell_type": "code",
   "execution_count": 975,
   "id": "e223ff58-7449-4687-ad33-af3e6be0c2c5",
   "metadata": {},
   "outputs": [
    {
     "ename": "NameError",
     "evalue": "name 'emission_log_prob_pytorch' is not defined",
     "output_type": "error",
     "traceback": [
      "\u001b[0;31m---------------------------------------------------------------------------\u001b[0m",
      "\u001b[0;31mNameError\u001b[0m                                 Traceback (most recent call last)",
      "Cell \u001b[0;32mIn[975], line 1\u001b[0m\n\u001b[0;32m----> 1\u001b[0m \u001b[43memission_log_prob_pytorch\u001b[49m\n",
      "\u001b[0;31mNameError\u001b[0m: name 'emission_log_prob_pytorch' is not defined"
     ]
    }
   ],
   "source": [
    "emission_log_prob_pytorch"
   ]
  },
  {
   "cell_type": "code",
   "execution_count": null,
   "id": "979fa9c6-abe8-4621-97e7-be31cad007ea",
   "metadata": {},
   "outputs": [],
   "source": []
  },
  {
   "cell_type": "markdown",
   "id": "43e3ee1f-8ce6-46ca-831b-8a2eb7cbbb20",
   "metadata": {},
   "source": [
    "# Generate some AR-HMM data"
   ]
  },
  {
   "cell_type": "code",
   "execution_count": null,
   "id": "19003c46-6f88-466f-800f-09afc2a4a33c",
   "metadata": {},
   "outputs": [],
   "source": [
    "import ar\n",
    "importlib.reload(ar)\n",
    "\n",
    "import hmm\n",
    "importlib.reload(hmm)"
   ]
  },
  {
   "cell_type": "code",
   "execution_count": null,
   "id": "9e6f1843-188b-4f01-9dcc-6e56f9a52bf1",
   "metadata": {},
   "outputs": [],
   "source": [
    "import ssm\n",
    "\n",
    "num_states = 3\n",
    "obs_dim = 2\n",
    "time_bins = 1000\n",
    "observations = \"autoregressive\"\n",
    "\n",
    "true_hmm = ssm.HMM(\n",
    "    num_states, obs_dim, \n",
    "    observations=observations,\n",
    "    transitions=\"inputdriven\"\n",
    ")\n",
    "\n",
    "true_states, obs = true_hmm.sample(time_bins)\n",
    "true_ll = true_hmm.log_probability(obs)"
   ]
  },
  {
   "cell_type": "code",
   "execution_count": null,
   "id": "8bad7645-d47c-46cd-8281-61e2dee5f082",
   "metadata": {},
   "outputs": [],
   "source": [
    "config_ar = ar.ARConfig(\n",
    "    n_states=num_states,\n",
    "    n_features=obs_dim,\n",
    "    ar_order= 0 if observations == \"gaussian\" else 1,\n",
    "    covariance_type='full' # 'full', 'diagonal', 'spherical', 'common', 'identity'\n",
    ")\n",
    "\n",
    "# device = 'cuda'\n",
    "device = 'cpu'\n",
    "\n",
    "config_hmm = hmm.HMMConfig(\n",
    "    n_states=num_states,\n",
    "    init_state_type='uniform',\n",
    "    transition_matrix_type='random',\n",
    "    transition_type='full',\n",
    "    diagonal_coef=0,\n",
    "    first_coef=0,\n",
    "    ergodicity_coef=0,\n",
    "    temperature=1,\n",
    ")\n",
    "\n",
    "random_seed = 42"
   ]
  },
  {
   "cell_type": "code",
   "execution_count": null,
   "id": "b5d18a58-9b6b-4743-b769-9f5eff7e5027",
   "metadata": {},
   "outputs": [],
   "source": [
    "N_iters = 50\n",
    "\n",
    "## testing the constrained transitions class\n",
    "hmm_ssm = ssm.HMM(num_states, obs_dim, observations=observations)\n",
    "\n",
    "hmm_lls = hmm_ssm.fit(obs, method=\"em\", num_iters=N_iters)#, init_method=\"kmeans\")"
   ]
  },
  {
   "cell_type": "code",
   "execution_count": null,
   "id": "7882b997-b0d7-4864-ab77-5d78bc86569e",
   "metadata": {},
   "outputs": [],
   "source": [
    "x_mean, x_cov = convert_observations(obs, device, seed=0)"
   ]
  },
  {
   "cell_type": "code",
   "execution_count": null,
   "id": "b04bdc1f-c5a5-4be3-a173-280253526bcd",
   "metadata": {},
   "outputs": [],
   "source": [
    "x_mean.shape"
   ]
  },
  {
   "cell_type": "code",
   "execution_count": null,
   "id": "b4c8d40d-6d5c-4dcc-8e56-747bf9d00ad1",
   "metadata": {},
   "outputs": [],
   "source": [
    "arhmm = ARHMM(config_ar, config_hmm, random_seed).to(device)\n",
    "N_iters = 50\n",
    "\n",
    "log_prob = arhmm.fit(x_mean, x_cov, n_iterations=N_iters)\n",
    "log_prob[-1]"
   ]
  },
  {
   "cell_type": "code",
   "execution_count": null,
   "id": "ad57d0bb-9768-4b9e-a2e8-68a740750306",
   "metadata": {},
   "outputs": [],
   "source": []
  },
  {
   "cell_type": "code",
   "execution_count": null,
   "id": "c06a112e-8744-4c05-a5b6-3a156bc5307d",
   "metadata": {},
   "outputs": [],
   "source": [
    "%%time\n",
    "emissions = arhmm.ar.emission_log_prob(x_mean)"
   ]
  },
  {
   "cell_type": "code",
   "execution_count": 976,
   "id": "433e7236-67f1-45e9-abb0-54165343387c",
   "metadata": {},
   "outputs": [
    {
     "name": "stdout",
     "output_type": "stream",
     "text": [
      "CPU times: user 79.3 ms, sys: 0 ns, total: 79.3 ms\n",
      "Wall time: 76.1 ms\n"
     ]
    }
   ],
   "source": [
    "%%time\n",
    "log_prob, gamma = arhmm.hmm.fit(emissions)"
   ]
  },
  {
   "cell_type": "code",
   "execution_count": 977,
   "id": "59df12cb-6c68-4348-bcc9-4c2cf619136b",
   "metadata": {},
   "outputs": [
    {
     "name": "stdout",
     "output_type": "stream",
     "text": [
      "CPU times: user 5.05 ms, sys: 0 ns, total: 5.05 ms\n",
      "Wall time: 3.77 ms\n"
     ]
    }
   ],
   "source": [
    "%%time\n",
    "arhmm.ar.fit(x_mean, x_cov, gamma)"
   ]
  },
  {
   "cell_type": "code",
   "execution_count": 978,
   "id": "83f98826-569f-456e-a25e-961054436469",
   "metadata": {},
   "outputs": [
    {
     "data": {
      "text/plain": [
       "tensor([[[3.2824, 0.6841],\n",
       "         [0.6841, 2.3988]],\n",
       "\n",
       "        [[2.9154, 0.0693],\n",
       "         [0.0693, 2.4317]],\n",
       "\n",
       "        [[3.0325, 0.2069],\n",
       "         [0.2069, 2.2381]]])"
      ]
     },
     "execution_count": 978,
     "metadata": {},
     "output_type": "execute_result"
    }
   ],
   "source": [
    "arhmm.ar.Sigma"
   ]
  },
  {
   "cell_type": "markdown",
   "id": "ffe8a95b-2336-4c4f-832e-305853686266",
   "metadata": {},
   "source": [
    "# VAE"
   ]
  },
  {
   "cell_type": "code",
   "execution_count": 7,
   "id": "4a923627-3e4b-4854-b82d-68e8cfaa2ace",
   "metadata": {},
   "outputs": [],
   "source": [
    "import os, psutil, sys\n",
    "import importlib\n",
    "\n",
    "import einops\n",
    "import numpy as np\n",
    "import ssm\n",
    "import matplotlib.pyplot as plt\n",
    "from tqdm import tqdm\n",
    "\n",
    "import torch\n",
    "import torch.nn as nn\n",
    "\n",
    "from pathlib import Path\n",
    "# parent_directory = Path(__file__).resolve().parent\n",
    "parent_directory = Path(os.getcwd()).resolve().parent\n",
    "sys.path.append(str(parent_directory) + '/models/')"
   ]
  },
  {
   "cell_type": "code",
   "execution_count": 84,
   "id": "f6401cca-9e7c-443e-8746-9d449aecddc9",
   "metadata": {},
   "outputs": [
    {
     "data": {
      "text/plain": [
       "<module 'vae' from '/home/user/common/amvosk/Projects/Speech Mapping Advanced/VAE-AR-HMM/models/vae.py'>"
      ]
     },
     "execution_count": 84,
     "metadata": {},
     "output_type": "execute_result"
    }
   ],
   "source": [
    "import vae\n",
    "importlib.reload(vae)"
   ]
  },
  {
   "cell_type": "code",
   "execution_count": 103,
   "id": "432a3d4a-c142-4302-bd29-26e82c1fc927",
   "metadata": {},
   "outputs": [],
   "source": [
    "config_vae = vae.VAEConfig(\n",
    "    n_channels=15,\n",
    "    n_features=3,\n",
    "    log_transform=False,\n",
    "    fs=1024,\n",
    "    fsamp=16,\n",
    "    ma_order_encoder=1,\n",
    "    ma_order_decoder=1,\n",
    "    use_ma_bias=True,\n",
    "    ma_bias_common=True,\n",
    "    use_cov_scaler=False,\n",
    ")\n",
    "\n",
    "random_seed = 42"
   ]
  },
  {
   "cell_type": "code",
   "execution_count": 104,
   "id": "f6d1c91a-62d2-4473-aaa2-abb882dd5874",
   "metadata": {},
   "outputs": [],
   "source": [
    "fs = 1024\n",
    "dataset = np.load('../datasets/spmap_80-100hz.npz')\n",
    "stimulus = dataset['stimulus']\n",
    "ecogf = dataset['ecogf'][:,stimulus[1]:]\n",
    "stimulus = stimulus[1:] - stimulus[1]\n",
    "sound = dataset['sound'][stimulus[1]*4:]\n",
    "ecogf = ecogf[:,:(ecogf.shape[1] // fs) * fs]\n",
    "bad_channels = dataset['bad_channels']"
   ]
  },
  {
   "cell_type": "code",
   "execution_count": 105,
   "id": "25e2950d-3843-48b1-b497-e654f0a24896",
   "metadata": {},
   "outputs": [],
   "source": [
    "vae_model = vae.VAE(config_vae, random_seed)"
   ]
  },
  {
   "cell_type": "code",
   "execution_count": 106,
   "id": "ba5c7d67-85a3-4aea-b803-e7bb7e00d91e",
   "metadata": {},
   "outputs": [],
   "source": [
    "y = torch.tensor(ecogf, dtype=torch.float32)"
   ]
  },
  {
   "cell_type": "code",
   "execution_count": 107,
   "id": "82932155-ad35-4057-8478-20d5d1c6b9b1",
   "metadata": {},
   "outputs": [],
   "source": [
    "results = vae_model(y)"
   ]
  },
  {
   "cell_type": "code",
   "execution_count": 108,
   "id": "51cda396-053a-4dfa-be81-c2b683471048",
   "metadata": {},
   "outputs": [
    {
     "name": "stdout",
     "output_type": "stream",
     "text": [
      "y_minibatch torch.Size([15, 222208])\n",
      "s torch.Size([3, 222208])\n",
      "s_abs torch.Size([3, 222208])\n",
      "s_sign torch.Size([3, 222208])\n",
      "a_mean torch.Size([3, 3472])\n",
      "a_cov torch.Size([3, 3, 3472])\n",
      "x_mean torch.Size([3, 3472])\n",
      "x_cov torch.Size([3, 3, 3472])\n",
      "s_abs_tilde torch.Size([3, 222208])\n",
      "s_tilde torch.Size([3, 222208])\n",
      "y_mean_tilde torch.Size([15, 222208])\n"
     ]
    }
   ],
   "source": [
    "for k, v in results.items():\n",
    "    if v is not None:\n",
    "        print(k, v.shape)"
   ]
  },
  {
   "cell_type": "code",
   "execution_count": 53,
   "id": "c4ad9c89-edfd-4f98-8fc8-1e2d9b0799f5",
   "metadata": {},
   "outputs": [
    {
     "name": "stdout",
     "output_type": "stream",
     "text": [
      "y_minibatch torch.Size([15, 222208])\n",
      "s torch.Size([3, 222208])\n",
      "s_abs torch.Size([3, 222208])\n",
      "s_sign torch.Size([3, 222208])\n",
      "a_mean torch.Size([3, 3472])\n",
      "a_cov torch.Size([3, 3, 3472])\n",
      "x_mean torch.Size([3, 3472])\n",
      "x_cov torch.Size([3, 3, 3472])\n",
      "s_abs_tilde torch.Size([3, 222208])\n",
      "s_tilde torch.Size([3, 222208])\n",
      "y_mean_tilde torch.Size([15, 222208])\n"
     ]
    }
   ],
   "source": [
    "for k, v in results.items():\n",
    "    if v is not None:\n",
    "        print(k, v.shape)"
   ]
  },
  {
   "cell_type": "code",
   "execution_count": null,
   "id": "ee1cefa1-d45f-4e91-9f6a-9c5485c408ea",
   "metadata": {},
   "outputs": [],
   "source": []
  },
  {
   "cell_type": "code",
   "execution_count": null,
   "id": "cfeef2a0-eb86-46fe-a34e-eb24c511a6a0",
   "metadata": {},
   "outputs": [],
   "source": []
  },
  {
   "cell_type": "code",
   "execution_count": null,
   "id": "a18809e2-ad68-4150-bbac-c3077633bb1a",
   "metadata": {},
   "outputs": [],
   "source": []
  }
 ],
 "metadata": {
  "kernelspec": {
   "display_name": "slds",
   "language": "python",
   "name": "slds"
  },
  "language_info": {
   "codemirror_mode": {
    "name": "ipython",
    "version": 3
   },
   "file_extension": ".py",
   "mimetype": "text/x-python",
   "name": "python",
   "nbconvert_exporter": "python",
   "pygments_lexer": "ipython3",
   "version": "3.10.10"
  }
 },
 "nbformat": 4,
 "nbformat_minor": 5
}
