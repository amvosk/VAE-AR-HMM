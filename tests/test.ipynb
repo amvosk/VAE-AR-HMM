{
 "cells": [
  {
   "cell_type": "code",
   "execution_count": 1,
   "id": "07e0c9d9-81d0-4f36-b216-975934b8c680",
   "metadata": {},
   "outputs": [
    {
     "name": "stderr",
     "output_type": "stream",
     "text": [
      "/opt/conda/envs/slds/lib/python3.10/site-packages/tqdm/auto.py:21: TqdmWarning: IProgress not found. Please update jupyter and ipywidgets. See https://ipywidgets.readthedocs.io/en/stable/user_install.html\n",
      "  from .autonotebook import tqdm as notebook_tqdm\n"
     ]
    }
   ],
   "source": [
    "import os, psutil\n",
    "import importlib\n",
    "\n",
    "import einops\n",
    "import numpy as np\n",
    "import ssm\n",
    "import matplotlib.pyplot as plt\n",
    "from tqdm import tqdm"
   ]
  },
  {
   "cell_type": "code",
   "execution_count": 2,
   "id": "c6b8aac7-5234-4337-a178-7c94339cf3da",
   "metadata": {},
   "outputs": [],
   "source": [
    "np.set_printoptions(precision=3)\n",
    "os.environ['CUDA_VISIBLE_DEVICES'] = '2'"
   ]
  },
  {
   "cell_type": "code",
   "execution_count": 3,
   "id": "b94b2ce0-826f-4146-a28c-d59caa96dcaa",
   "metadata": {},
   "outputs": [
    {
     "name": "stdout",
     "output_type": "stream",
     "text": [
      "The available RAM memory is 55.15 GB out of 125.68 GB\n"
     ]
    }
   ],
   "source": [
    "total_memory = psutil.virtual_memory().total\n",
    "available_memory = psutil.virtual_memory().available\n",
    "print(f\"The available RAM memory is {available_memory / (1024**3):.2f} GB out of {total_memory / (1024**3):.2f} GB\")"
   ]
  },
  {
   "cell_type": "code",
   "execution_count": 9,
   "id": "998c761c-2d74-4201-9bdd-3a40e63999c3",
   "metadata": {},
   "outputs": [],
   "source": [
    "import os, psutil, sys\n",
    "import importlib\n",
    "\n",
    "import einops\n",
    "import numpy as np\n",
    "import ssm\n",
    "import matplotlib.pyplot as plt\n",
    "from tqdm import tqdm\n",
    "\n",
    "import torch\n",
    "import torch.nn as nn\n",
    "\n",
    "from pathlib import Path\n",
    "# parent_directory = Path(__file__).resolve().parent\n",
    "parent_directory = Path(os.getcwd()).resolve().parent\n",
    "sys.path.append(str(parent_directory))"
   ]
  },
  {
   "cell_type": "code",
   "execution_count": null,
   "id": "2a23062a-fcb1-4ded-92f1-b83ac871fa20",
   "metadata": {},
   "outputs": [],
   "source": []
  },
  {
   "cell_type": "markdown",
   "id": "30f97ea6-84f9-4e23-833c-d07043f22a95",
   "metadata": {},
   "source": [
    "# Generate data"
   ]
  },
  {
   "cell_type": "code",
   "execution_count": 279,
   "id": "34f0a374-97d8-4e57-a2e2-f6bbc0f16194",
   "metadata": {},
   "outputs": [],
   "source": [
    "import ssm\n",
    "\n",
    "num_states = 1\n",
    "obs_dim = 2\n",
    "time_bins = 10000\n",
    "\n",
    "true_hmm = ssm.HMM(\n",
    "    num_states, obs_dim, \n",
    "    observations=\"autoregressive\",\n",
    "    # observations=\"gaussian\",\n",
    "    transitions=\"inputdriven\"\n",
    ")\n",
    "\n",
    "true_states, obs = true_hmm.sample(time_bins)\n",
    "true_ll = true_hmm.log_probability(obs)"
   ]
  },
  {
   "cell_type": "code",
   "execution_count": 280,
   "id": "3839a933-4f80-4994-ad36-fdaf1af1c6f5",
   "metadata": {},
   "outputs": [],
   "source": [
    "# true_hmm.observations._As, true_hmm.observations.bs"
   ]
  },
  {
   "cell_type": "code",
   "execution_count": 282,
   "id": "75a307f2-3475-4c44-b18e-b3423dc24549",
   "metadata": {},
   "outputs": [],
   "source": [
    "# vars(true_hmm.observations)"
   ]
  },
  {
   "cell_type": "code",
   "execution_count": 283,
   "id": "aadd906a-3ea0-436f-af5d-cc1a3d1b3528",
   "metadata": {},
   "outputs": [],
   "source": [
    "x = torch.tensor(obs, dtype=torch.float32).to(device)"
   ]
  },
  {
   "cell_type": "markdown",
   "id": "6b959a90-635e-4e63-a4ad-671c87e81962",
   "metadata": {},
   "source": [
    "# Whitening of the data"
   ]
  },
  {
   "cell_type": "code",
   "execution_count": 694,
   "id": "b63071e3-8ae6-46b5-85ff-e6d73c98f5c1",
   "metadata": {},
   "outputs": [],
   "source": [
    "import autoregression\n",
    "importlib.reload(autoregression)\n",
    "\n",
    "config = autoregression.ARConfig(\n",
    "    n_states=num_states,\n",
    "    n_features=obs_dim,\n",
    "    ar_order=1,\n",
    ")\n",
    "device = 'cpu'"
   ]
  },
  {
   "cell_type": "code",
   "execution_count": 695,
   "id": "9d4c2d5b-a9c9-4787-a312-66c2735ff201",
   "metadata": {},
   "outputs": [],
   "source": [
    "ar = autoregression.Autoregression(config).to(device)"
   ]
  },
  {
   "cell_type": "markdown",
   "id": "a2a22efc-c354-4570-b9ab-cc90fc86de0e",
   "metadata": {},
   "source": [
    "### set whitening_filters to the AR and mu coefs"
   ]
  },
  {
   "cell_type": "code",
   "execution_count": 701,
   "id": "2a48ce59-30ef-4e62-95ca-37f0a628be87",
   "metadata": {},
   "outputs": [],
   "source": [
    "torch.manual_seed(0)\n",
    "x = torch.tensor(obs, dtype=torch.float32).to(device)\n",
    "x_mean = einops.rearrange(x, 't f -> f t')\n",
    "x_cov = torch.randn((x_.shape[0], x_.shape[0], x_.shape[-1]), dtype=torch.float32).to(device)\n",
    "x_cov = torch.einsum('cCt, sCt -> cst', x_cov, x_cov)\n",
    "x_cov[:] = 0"
   ]
  },
  {
   "cell_type": "code",
   "execution_count": 703,
   "id": "318a8a23-1a54-4203-b776-aec9658a9ce4",
   "metadata": {},
   "outputs": [],
   "source": [
    "ar.An[:,1] = torch.tensor(true_hmm.observations._As[0], dtype=torch.float32, device=device)\n",
    "ar.An[:,-1] = torch.diag(torch.tensor(true_hmm.observations.bs[0], dtype=torch.float32, device=device))\n",
    "ar._update_filters()"
   ]
  },
  {
   "cell_type": "code",
   "execution_count": 704,
   "id": "ab07cb7e-a489-4630-9cef-94cc25314c9f",
   "metadata": {},
   "outputs": [
    {
     "name": "stdout",
     "output_type": "stream",
     "text": [
      "CPU times: user 28 ms, sys: 0 ns, total: 28 ms\n",
      "Wall time: 5.95 ms\n"
     ]
    }
   ],
   "source": [
    "%%time\n",
    "y = ar.whitening_filters[0](ar.pad(x_mean)).detach().cpu().numpy()"
   ]
  },
  {
   "cell_type": "code",
   "execution_count": 705,
   "id": "9c6a1328-b715-4d21-861a-a327e465a8a8",
   "metadata": {},
   "outputs": [
    {
     "name": "stdout",
     "output_type": "stream",
     "text": [
      "[-0.004  0.003]\n"
     ]
    }
   ],
   "source": [
    "print(np.mean(y, axis=-1))"
   ]
  },
  {
   "cell_type": "code",
   "execution_count": 706,
   "id": "7ef147dc-43af-436b-8628-41c512885734",
   "metadata": {},
   "outputs": [],
   "source": [
    "gamma = torch.ones((n_samples, config_ar.n_states), device=x_mean.device) / config_ar.n_states"
   ]
  },
  {
   "cell_type": "code",
   "execution_count": 707,
   "id": "f1c2c2a0-022b-4c6e-ba5d-cc31d46d8cda",
   "metadata": {},
   "outputs": [
    {
     "name": "stdout",
     "output_type": "stream",
     "text": [
      "CPU times: user 2.31 ms, sys: 154 µs, total: 2.46 ms\n",
      "Wall time: 1.86 ms\n"
     ]
    },
    {
     "data": {
      "text/plain": [
       "tensor([[[[ 0.0927,  0.7912],\n",
       "          [-0.7922,  0.0970]],\n",
       "\n",
       "         [[-1.0855,  0.0000],\n",
       "          [ 0.0000, -0.2664]]]])"
      ]
     },
     "execution_count": 707,
     "metadata": {},
     "output_type": "execute_result"
    }
   ],
   "source": [
    "%%time\n",
    "ar._estimate_autoregression(x_mean, x_cov, gamma)"
   ]
  },
  {
   "cell_type": "code",
   "execution_count": 708,
   "id": "95cede67-0f2a-4302-ba43-45338ab09d56",
   "metadata": {},
   "outputs": [
    {
     "name": "stdout",
     "output_type": "stream",
     "text": [
      "CPU times: user 8.26 ms, sys: 2.35 ms, total: 10.6 ms\n",
      "Wall time: 3.65 ms\n"
     ]
    },
    {
     "data": {
      "text/plain": [
       "tensor([[[ 2.0094, -1.3340],\n",
       "         [-1.3340,  0.9334]]])"
      ]
     },
     "execution_count": 708,
     "metadata": {},
     "output_type": "execute_result"
    }
   ],
   "source": [
    "%%time\n",
    "ar._estimate_covariance(x_mean, x_cov, gamma)"
   ]
  },
  {
   "cell_type": "code",
   "execution_count": 709,
   "id": "fa2debf0-feec-43b3-8987-f8004091605d",
   "metadata": {},
   "outputs": [],
   "source": [
    "# %%time\n",
    "# ar._estimate_covariance_slow(x_mean, x_cov, gamma)"
   ]
  },
  {
   "cell_type": "code",
   "execution_count": 710,
   "id": "673c8f3e-2905-42bd-bc54-6bb2e79f5991",
   "metadata": {},
   "outputs": [],
   "source": [
    "ar.fit(x_mean, x_cov)"
   ]
  },
  {
   "cell_type": "code",
   "execution_count": 711,
   "id": "eb4bdadb-10d1-487e-93b3-0e34de423e06",
   "metadata": {},
   "outputs": [],
   "source": [
    "ar.reset()"
   ]
  },
  {
   "cell_type": "code",
   "execution_count": 712,
   "id": "e3dcb0f4-464d-4384-9698-b904c4582746",
   "metadata": {},
   "outputs": [],
   "source": [
    "ar.fit(x_mean, x_cov)"
   ]
  },
  {
   "cell_type": "code",
   "execution_count": 713,
   "id": "81e27cc8-4e36-42d1-90b5-a242f00f953b",
   "metadata": {},
   "outputs": [
    {
     "data": {
      "text/plain": [
       "tensor([[[ 2.0093, -1.3340],\n",
       "         [-1.3340,  0.9333]]])"
      ]
     },
     "execution_count": 713,
     "metadata": {},
     "output_type": "execute_result"
    }
   ],
   "source": [
    "ar.Sigma"
   ]
  },
  {
   "cell_type": "code",
   "execution_count": 714,
   "id": "c55847ce-980e-4829-871a-98b893dd8f6c",
   "metadata": {},
   "outputs": [
    {
     "name": "stdout",
     "output_type": "stream",
     "text": [
      "CPU times: user 11.8 ms, sys: 0 ns, total: 11.8 ms\n",
      "Wall time: 3.04 ms\n"
     ]
    }
   ],
   "source": [
    "%%time\n",
    "log_prob_ar = ar.emission_log_prob(x_mean)"
   ]
  },
  {
   "cell_type": "code",
   "execution_count": 715,
   "id": "b8f5ebe6-d05b-45d0-930c-5c8a1b5a625e",
   "metadata": {},
   "outputs": [
    {
     "name": "stdout",
     "output_type": "stream",
     "text": [
      "CPU times: user 18.9 ms, sys: 0 ns, total: 18.9 ms\n",
      "Wall time: 3.58 ms\n"
     ]
    }
   ],
   "source": [
    "%%time\n",
    "log_prob_ar = ar.emission_log_prob_pytorch(x_mean)"
   ]
  },
  {
   "cell_type": "code",
   "execution_count": 638,
   "id": "334feeab-36c9-48f3-8292-30e62aecf723",
   "metadata": {},
   "outputs": [],
   "source": [
    "def emission_log_prob_pytorch(x_mean, ar):\n",
    "\n",
    "    log_prob = torch.zeros(ar.config.n_states, x_mean.shape[-1], device=x_mean.device)\n",
    "    es = ar._signal_whitening(x_mean)\n",
    "    es = einops.rearrange(es, 'k c t -> k t c')\n",
    "    \n",
    "    mean = torch.zeros(ar.config.n_features, device=x_mean.device)\n",
    "    for k in range(ar.config.n_states):\n",
    "        covariance_matrix_k = ar.Sigma[k]\n",
    "        distribution = MultivariateNormal(mean, covariance_matrix)\n",
    "        log_prob[k] = distribution.log_prob(es[k])\n",
    "    \n",
    "    return log_prob"
   ]
  },
  {
   "cell_type": "code",
   "execution_count": 639,
   "id": "623eccb3-4b13-4fb8-bb4d-215f5f4c718b",
   "metadata": {},
   "outputs": [
    {
     "name": "stdout",
     "output_type": "stream",
     "text": [
      "CPU times: user 0 ns, sys: 2.78 ms, total: 2.78 ms\n",
      "Wall time: 2.12 ms\n"
     ]
    }
   ],
   "source": [
    "%%time\n",
    "log_prob_pytorch = emission_log_prob_pytorch(x_mean, ar)"
   ]
  },
  {
   "cell_type": "code",
   "execution_count": 621,
   "id": "b188f54a-338f-48bc-ae76-f89ef911c0c9",
   "metadata": {},
   "outputs": [
    {
     "data": {
      "text/plain": [
       "torch.Size([1, 2, 2])"
      ]
     },
     "execution_count": 621,
     "metadata": {},
     "output_type": "execute_result"
    }
   ],
   "source": [
    "ar.Sigma.shape"
   ]
  },
  {
   "cell_type": "markdown",
   "id": "065d1cf0-02d7-4b47-b940-28b7f1b7f092",
   "metadata": {},
   "source": [
    "# HMM"
   ]
  },
  {
   "cell_type": "code",
   "execution_count": 1275,
   "id": "8739e31a-fbfa-4f45-88ad-2859747bf69f",
   "metadata": {},
   "outputs": [
    {
     "data": {
      "text/plain": [
       "<module 'hidden_markov_model' from '/home/user/common/amvosk/Projects/Speech Mapping Advanced/hidden_markov_model.py'>"
      ]
     },
     "execution_count": 1275,
     "metadata": {},
     "output_type": "execute_result"
    }
   ],
   "source": [
    "import autoregression\n",
    "importlib.reload(autoregression)\n",
    "\n",
    "import hidden_markov_model\n",
    "importlib.reload(hidden_markov_model)"
   ]
  },
  {
   "cell_type": "code",
   "execution_count": 1421,
   "id": "ab829a62-d3df-49bd-8963-4dd339769963",
   "metadata": {},
   "outputs": [],
   "source": [
    "class ARHMM(nn.Module):\n",
    "    def __init__(\n",
    "        self,\n",
    "        config_ar,\n",
    "        config_hmm,\n",
    "        random_seed,\n",
    "    ):\n",
    "        super(self.__class__,self).__init__()\n",
    "        self.config_hmm = config_hmm\n",
    "        self.config_ar = config_ar\n",
    "\n",
    "        self.hmm = hidden_markov_model.HMM(self.config_hmm, random_seed)\n",
    "        self.ar = autoregression.Autoregression(self.config_ar)\n",
    "        \n",
    "    def forward(self, x):\n",
    "        return None\n",
    "        \n",
    "    def fit(self, x_mean, x_cov, n_iterations=50, mask=None):\n",
    "        log_probs = []\n",
    "        for iteration in tqdm(range(n_iterations)):\n",
    "            \n",
    "            emissions = self.ar.emission_log_prob(x_mean)\n",
    "            log_prob, gamma = self.hmm.fit(emissions)\n",
    "            self.ar.fit(x_mean, x_cov, gamma)\n",
    "            log_probs.append(log_prob.detach().cpu().numpy().item())\n",
    "        return log_probs\n",
    "            \n",
    "    def predict(self, x_mean):\n",
    "        emissions = self.ar.emission_log_prob(x_mean)\n",
    "        path = self.hmm.predict(emissions)\n",
    "        return path"
   ]
  },
  {
   "cell_type": "markdown",
   "id": "c5abbccb-9901-4e9f-9403-67656266df5a",
   "metadata": {},
   "source": [
    "# Generate some GaussHMM data"
   ]
  },
  {
   "cell_type": "code",
   "execution_count": 1293,
   "id": "d0db9602-8665-4e76-89de-13554649acfa",
   "metadata": {},
   "outputs": [],
   "source": [
    "import ssm\n",
    "\n",
    "num_states = 3\n",
    "obs_dim = 2\n",
    "time_bins = 1000\n",
    "observations = \"gaussian\"\n",
    "# observations = \"autoregressive\"\n",
    "\n",
    "true_hmm = ssm.HMM(\n",
    "    num_states, obs_dim, \n",
    "    observations=observations,\n",
    "    transitions=\"inputdriven\"\n",
    ")\n",
    "\n",
    "true_states, obs = true_hmm.sample(time_bins)\n",
    "true_ll = true_hmm.log_probability(obs)"
   ]
  },
  {
   "cell_type": "code",
   "execution_count": 1294,
   "id": "0888986b-cc8f-4601-9e9c-3c82ae97cdaf",
   "metadata": {},
   "outputs": [],
   "source": [
    "config_ar = autoregression.ARConfig(\n",
    "    n_states=num_states,\n",
    "    n_features=obs_dim,\n",
    "    ar_order= 0 if observations == \"gaussian\" else 1,\n",
    "    covariance_type='full'\n",
    ")\n",
    "\n",
    "# device = 'cuda'\n",
    "device = 'cpu'\n",
    "\n",
    "config_hmm = hidden_markov_model.HMMConfig(\n",
    "    n_states=num_states,\n",
    "    init_state_type='uniform',\n",
    "    transition_matrix_type='random',\n",
    "    transition_type='full',\n",
    "    diagonal_coef=0,\n",
    "    first_coef=0,\n",
    "    ergodicity_coef=0,\n",
    "    temperature=1,\n",
    ")\n",
    "\n",
    "random_seed = 42"
   ]
  },
  {
   "cell_type": "markdown",
   "id": "8b2d6e1d-a173-4103-8f57-74ebf6a37889",
   "metadata": {},
   "source": [
    "## From library"
   ]
  },
  {
   "cell_type": "code",
   "execution_count": 1295,
   "id": "59aa84ed-96d3-4ab5-8a81-f77848599590",
   "metadata": {},
   "outputs": [
    {
     "name": "stderr",
     "output_type": "stream",
     "text": [
      "LP: -2253.8: 100%|██████████| 50/50 [00:00<00:00, 235.03it/s]\n"
     ]
    }
   ],
   "source": [
    "N_iters = 50\n",
    "\n",
    "## testing the constrained transitions class\n",
    "hmm_ssm = ssm.HMM(num_states, obs_dim, observations=observations)\n",
    "\n",
    "hmm_lls = hmm_ssm.fit(obs, method=\"em\", num_iters=N_iters)#, init_method=\"kmeans\")"
   ]
  },
  {
   "cell_type": "markdown",
   "id": "478aef22-bf43-46f4-8bcc-24c04959b0cc",
   "metadata": {},
   "source": [
    "## Mine"
   ]
  },
  {
   "cell_type": "code",
   "execution_count": 1296,
   "id": "cba5db83-a319-4f1d-98dd-5d62360a0815",
   "metadata": {},
   "outputs": [],
   "source": [
    "torch.manual_seed(0)\n",
    "x = torch.tensor(obs, dtype=torch.float32).to(device)\n",
    "x_mean = einops.rearrange(x, 't f -> f t')\n",
    "x_cov = torch.randn((x_.shape[0], x_.shape[0], x_.shape[-1]), dtype=torch.float32).to(device)\n",
    "x_cov = torch.einsum('cCt, sCt -> cst', x_cov, x_cov)\n",
    "x_cov[:] = 0"
   ]
  },
  {
   "cell_type": "code",
   "execution_count": 1297,
   "id": "44046d48-207e-41a4-9821-bb2fb34697ce",
   "metadata": {},
   "outputs": [
    {
     "name": "stderr",
     "output_type": "stream",
     "text": [
      "100%|██████████| 50/50 [00:07<00:00,  6.67it/s]\n"
     ]
    },
    {
     "data": {
      "text/plain": [
       "-2253.75634765625"
      ]
     },
     "execution_count": 1297,
     "metadata": {},
     "output_type": "execute_result"
    }
   ],
   "source": [
    "arhmm = ARHMM(config_ar, config_hmm, random_seed).to(device)\n",
    "N_iters = 50\n",
    "\n",
    "log_prob = arhmm.fit(x_mean, x_cov, n_iterations=N_iters)\n",
    "log_prob[-1]"
   ]
  },
  {
   "cell_type": "code",
   "execution_count": 1298,
   "id": "c0a16736-3723-49e1-8aca-bdbab4646060",
   "metadata": {},
   "outputs": [],
   "source": [
    "# plt.plot(log_prob)"
   ]
  },
  {
   "cell_type": "code",
   "execution_count": 1299,
   "id": "c7d72b62-8bd7-4532-b187-e9c66f88ad9c",
   "metadata": {},
   "outputs": [],
   "source": [
    "mu, sigma = arhmm.ar._get_mean().cpu().numpy(), arhmm.ar._get_cov().cpu().numpy()"
   ]
  },
  {
   "cell_type": "code",
   "execution_count": 1300,
   "id": "b512dc7f-f926-4463-a482-a7f6c243cd45",
   "metadata": {},
   "outputs": [],
   "source": [
    "mu_true = true_hmm.observations.mus\n",
    "mu_learned = hmm_ssm.observations.mus\n",
    "mu_mine = arhmm.ar._get_mean().cpu().numpy()"
   ]
  },
  {
   "cell_type": "code",
   "execution_count": 1301,
   "id": "e1cbf8c6-e081-4dc3-9316-cd25979c947d",
   "metadata": {},
   "outputs": [],
   "source": [
    "sigma_true = np.einsum('kcC, ksC -> kcs', true_hmm.observations._sqrt_Sigmas, true_hmm.observations._sqrt_Sigmas)\n",
    "sigma_learned = np.einsum('kcC, ksC -> kcs', hmm_ssm.observations._sqrt_Sigmas, hmm_ssm.observations._sqrt_Sigmas)\n",
    "sigma_mine = arhmm.ar._get_cov().cpu().numpy()"
   ]
  },
  {
   "cell_type": "code",
   "execution_count": 1302,
   "id": "d07b489e-c963-4a46-9f1a-40848632cb05",
   "metadata": {},
   "outputs": [],
   "source": [
    "def plot_ar_matrix(matrices):\n",
    "    n_matrices = matrices.shape[0]\n",
    "    fig, ax = plt.subplots(1, n_matrices, figsize=(15, 3))\n",
    "\n",
    "    for i in range(n_matrices):\n",
    "        matrix = matrices[i]\n",
    "        vmax = np.max(np.abs(matrix))\n",
    "        vmin = -vmax\n",
    "        cmap = plt.get_cmap(\"coolwarm\")\n",
    "        # Plot the covariance matrix using imshow\n",
    "        im = ax[i].imshow(matrix, cmap=cmap, vmin=vmin, vmax=vmax)\n",
    "\n",
    "        cax = fig.add_axes([ax[i].get_position().x1 + 0.01, ax[i].get_position().y0, 0.02, ax[i].get_position().height])\n",
    "        cbar = fig.colorbar(im, cax=cax)\n",
    "        \n",
    "        \n",
    "        num_variables = matrix.shape[0]\n",
    "        tick_positions = np.arange(num_variables)\n",
    "        ax[i].set_xticks(tick_positions)\n",
    "        ax[i].set_yticks(tick_positions)\n",
    "        ax[i].set_xticklabels(tick_positions)\n",
    "        ax[i].set_yticklabels(tick_positions)\n",
    "\n",
    "        ax[i].set_title(f'ar state {i}')\n",
    "    plt.show()"
   ]
  },
  {
   "cell_type": "code",
   "execution_count": 1303,
   "id": "7d68ef5d-21c5-41c3-b109-77197f2edd54",
   "metadata": {},
   "outputs": [
    {
     "data": {
      "image/png": "[encoded data removed]",
      "text/plain": [
       "<Figure size 1500x300 with 6 Axes>"
      ]
     },
     "metadata": {},
     "output_type": "display_data"
    }
   ],
   "source": [
    "plot_ar_matrix(sigma_true)"
   ]
  },
  {
   "cell_type": "code",
   "execution_count": 1304,
   "id": "33bb9604-e581-4f54-80fc-587e320d7ab7",
   "metadata": {},
   "outputs": [
    {
     "data": {
      "image/png": "[encoded data removed]",
      "text/plain": [
       "<Figure size 1500x300 with 6 Axes>"
      ]
     },
     "metadata": {},
     "output_type": "display_data"
    }
   ],
   "source": [
    "plot_ar_matrix(sigma_learned)"
   ]
  },
  {
   "cell_type": "code",
   "execution_count": 1305,
   "id": "26188ca6-f264-4771-927e-b07ae98361bf",
   "metadata": {},
   "outputs": [
    {
     "data": {
      "image/png": "[encoded data removed]",
      "text/plain": [
       "<Figure size 1500x300 with 6 Axes>"
      ]
     },
     "metadata": {},
     "output_type": "display_data"
    }
   ],
   "source": [
    "plot_ar_matrix(sigma_mine)"
   ]
  },
  {
   "cell_type": "markdown",
   "id": "43e3ee1f-8ce6-46ca-831b-8a2eb7cbbb20",
   "metadata": {},
   "source": [
    "# Generate some AR-HMM data"
   ]
  },
  {
   "cell_type": "code",
   "execution_count": 1511,
   "id": "19003c46-6f88-466f-800f-09afc2a4a33c",
   "metadata": {},
   "outputs": [
    {
     "data": {
      "text/plain": [
       "<module 'hidden_markov_model' from '/home/user/common/amvosk/Projects/Speech Mapping Advanced/hidden_markov_model.py'>"
      ]
     },
     "execution_count": 1511,
     "metadata": {},
     "output_type": "execute_result"
    }
   ],
   "source": [
    "import autoregression\n",
    "importlib.reload(autoregression)\n",
    "\n",
    "import hidden_markov_model\n",
    "importlib.reload(hidden_markov_model)"
   ]
  },
  {
   "cell_type": "code",
   "execution_count": 1512,
   "id": "9e6f1843-188b-4f01-9dcc-6e56f9a52bf1",
   "metadata": {},
   "outputs": [],
   "source": [
    "import ssm\n",
    "\n",
    "num_states = 3\n",
    "obs_dim = 2\n",
    "time_bins = 1000\n",
    "observations = \"autoregressive\"\n",
    "\n",
    "true_hmm = ssm.HMM(\n",
    "    num_states, obs_dim, \n",
    "    observations=observations,\n",
    "    transitions=\"inputdriven\"\n",
    ")\n",
    "\n",
    "true_states, obs = true_hmm.sample(time_bins)\n",
    "true_ll = true_hmm.log_probability(obs)"
   ]
  },
  {
   "cell_type": "code",
   "execution_count": 1540,
   "id": "8bad7645-d47c-46cd-8281-61e2dee5f082",
   "metadata": {},
   "outputs": [],
   "source": [
    "config_ar = autoregression.ARConfig(\n",
    "    n_states=num_states,\n",
    "    n_features=obs_dim,\n",
    "    ar_order= 0 if observations == \"gaussian\" else 1,\n",
    "    covariance_type='full' # 'full', 'diagonal', 'spherical', 'common', 'identity'\n",
    ")\n",
    "\n",
    "# device = 'cuda'\n",
    "device = 'cpu'\n",
    "\n",
    "config_hmm = hidden_markov_model.HMMConfig(\n",
    "    n_states=num_states,\n",
    "    init_state_type='uniform',\n",
    "    transition_matrix_type='random',\n",
    "    transition_type='full',\n",
    "    diagonal_coef=0,\n",
    "    first_coef=0,\n",
    "    ergodicity_coef=0,\n",
    "    temperature=1,\n",
    ")\n",
    "\n",
    "random_seed = 42"
   ]
  },
  {
   "cell_type": "code",
   "execution_count": 1541,
   "id": "b5d18a58-9b6b-4743-b769-9f5eff7e5027",
   "metadata": {},
   "outputs": [
    {
     "name": "stderr",
     "output_type": "stream",
     "text": [
      "LP: -2438.1: 100%|██████████| 50/50 [00:00<00:00, 239.11it/s]\n"
     ]
    }
   ],
   "source": [
    "N_iters = 50\n",
    "\n",
    "## testing the constrained transitions class\n",
    "hmm_ssm = ssm.HMM(num_states, obs_dim, observations=observations)\n",
    "\n",
    "hmm_lls = hmm_ssm.fit(obs, method=\"em\", num_iters=N_iters)#, init_method=\"kmeans\")"
   ]
  },
  {
   "cell_type": "code",
   "execution_count": 1542,
   "id": "7882b997-b0d7-4864-ab77-5d78bc86569e",
   "metadata": {},
   "outputs": [],
   "source": [
    "torch.manual_seed(0)\n",
    "x = torch.tensor(obs, dtype=torch.float32).to(device)\n",
    "x_mean = einops.rearrange(x, 't f -> f t')\n",
    "x_cov = torch.randn((x_mean.shape[0], x_mean.shape[0], x_mean.shape[-1]), dtype=torch.float32).to(device)\n",
    "x_cov = torch.einsum('cCt, sCt -> cst', x_cov, x_cov)\n",
    "x_cov[:] = 0"
   ]
  },
  {
   "cell_type": "code",
   "execution_count": 1543,
   "id": "b04bdc1f-c5a5-4be3-a173-280253526bcd",
   "metadata": {},
   "outputs": [
    {
     "data": {
      "text/plain": [
       "torch.Size([2, 1000])"
      ]
     },
     "execution_count": 1543,
     "metadata": {},
     "output_type": "execute_result"
    }
   ],
   "source": [
    "x_mean.shape"
   ]
  },
  {
   "cell_type": "code",
   "execution_count": 1544,
   "id": "b4c8d40d-6d5c-4dcc-8e56-747bf9d00ad1",
   "metadata": {},
   "outputs": [
    {
     "name": "stderr",
     "output_type": "stream",
     "text": [
      "100%|██████████| 50/50 [00:03<00:00, 13.46it/s]\n"
     ]
    },
    {
     "data": {
      "text/plain": [
       "-2443.96533203125"
      ]
     },
     "execution_count": 1544,
     "metadata": {},
     "output_type": "execute_result"
    }
   ],
   "source": [
    "arhmm = ARHMM(config_ar, config_hmm, random_seed).to(device)\n",
    "N_iters = 50\n",
    "\n",
    "log_prob = arhmm.fit(x_mean, x_cov, n_iterations=N_iters)\n",
    "log_prob[-1]"
   ]
  },
  {
   "cell_type": "code",
   "execution_count": null,
   "id": "ad57d0bb-9768-4b9e-a2e8-68a740750306",
   "metadata": {},
   "outputs": [],
   "source": []
  },
  {
   "cell_type": "code",
   "execution_count": 1545,
   "id": "c06a112e-8744-4c05-a5b6-3a156bc5307d",
   "metadata": {},
   "outputs": [
    {
     "name": "stdout",
     "output_type": "stream",
     "text": [
      "CPU times: user 2.53 ms, sys: 806 µs, total: 3.33 ms\n",
      "Wall time: 1.53 ms\n"
     ]
    }
   ],
   "source": [
    "%%time\n",
    "emissions = arhmm.ar.emission_log_prob(x_mean)"
   ]
  },
  {
   "cell_type": "code",
   "execution_count": 1546,
   "id": "433e7236-67f1-45e9-abb0-54165343387c",
   "metadata": {},
   "outputs": [
    {
     "name": "stdout",
     "output_type": "stream",
     "text": [
      "CPU times: user 99.6 ms, sys: 2.38 ms, total: 102 ms\n",
      "Wall time: 74.6 ms\n"
     ]
    }
   ],
   "source": [
    "%%time\n",
    "log_prob, gamma = arhmm.hmm.fit(emissions)"
   ]
  },
  {
   "cell_type": "code",
   "execution_count": 1547,
   "id": "59df12cb-6c68-4348-bcc9-4c2cf619136b",
   "metadata": {},
   "outputs": [
    {
     "name": "stdout",
     "output_type": "stream",
     "text": [
      "CPU times: user 30.1 ms, sys: 0 ns, total: 30.1 ms\n",
      "Wall time: 3.42 ms\n"
     ]
    }
   ],
   "source": [
    "%%time\n",
    "arhmm.ar.fit(x_mean, x_cov, gamma)"
   ]
  },
  {
   "cell_type": "code",
   "execution_count": 1548,
   "id": "83f98826-569f-456e-a25e-961054436469",
   "metadata": {},
   "outputs": [
    {
     "data": {
      "text/plain": [
       "tensor([[[ 0.3778,  0.0351],\n",
       "         [ 0.0351,  0.0053]],\n",
       "\n",
       "        [[ 5.1890, -1.1483],\n",
       "         [-1.1483,  4.7190]],\n",
       "\n",
       "        [[ 1.8048, -1.7670],\n",
       "         [-1.7670,  1.9583]]])"
      ]
     },
     "execution_count": 1548,
     "metadata": {},
     "output_type": "execute_result"
    }
   ],
   "source": [
    "arhmm.ar.Sigma"
   ]
  },
  {
   "cell_type": "code",
   "execution_count": null,
   "id": "d73e7372-97e8-4401-9e13-93b60f22cfb4",
   "metadata": {},
   "outputs": [],
   "source": []
  },
  {
   "cell_type": "code",
   "execution_count": null,
   "id": "d479f193-b235-4f50-a23e-df428fca9660",
   "metadata": {},
   "outputs": [],
   "source": []
  },
  {
   "cell_type": "code",
   "execution_count": null,
   "id": "da67e99e-cddf-41e1-9929-5e5ff16399db",
   "metadata": {},
   "outputs": [],
   "source": []
  },
  {
   "cell_type": "code",
   "execution_count": null,
   "id": "171b0459-397f-41dc-8015-ecae40bf17c7",
   "metadata": {},
   "outputs": [],
   "source": []
  },
  {
   "cell_type": "code",
   "execution_count": null,
   "id": "66173935-2fa9-4c71-803c-4d21f3fd5ad2",
   "metadata": {},
   "outputs": [],
   "source": []
  },
  {
   "cell_type": "code",
   "execution_count": null,
   "id": "e3df2591-7af9-480c-9d14-bacfdc69dc28",
   "metadata": {},
   "outputs": [],
   "source": []
  },
  {
   "cell_type": "code",
   "execution_count": null,
   "id": "82932155-ad35-4057-8478-20d5d1c6b9b1",
   "metadata": {},
   "outputs": [],
   "source": []
  },
  {
   "cell_type": "code",
   "execution_count": null,
   "id": "c4ad9c89-edfd-4f98-8fc8-1e2d9b0799f5",
   "metadata": {},
   "outputs": [],
   "source": []
  },
  {
   "cell_type": "code",
   "execution_count": null,
   "id": "ee1cefa1-d45f-4e91-9f6a-9c5485c408ea",
   "metadata": {},
   "outputs": [],
   "source": []
  },
  {
   "cell_type": "code",
   "execution_count": null,
   "id": "cfeef2a0-eb86-46fe-a34e-eb24c511a6a0",
   "metadata": {},
   "outputs": [],
   "source": []
  },
  {
   "cell_type": "code",
   "execution_count": null,
   "id": "a18809e2-ad68-4150-bbac-c3077633bb1a",
   "metadata": {},
   "outputs": [],
   "source": []
  }
 ],
 "metadata": {
  "kernelspec": {
   "display_name": "slds",
   "language": "python",
   "name": "slds"
  },
  "language_info": {
   "codemirror_mode": {
    "name": "ipython",
    "version": 3
   },
   "file_extension": ".py",
   "mimetype": "text/x-python",
   "name": "python",
   "nbconvert_exporter": "python",
   "pygments_lexer": "ipython3",
   "version": "3.10.10"
  }
 },
 "nbformat": 4,
 "nbformat_minor": 5
}
